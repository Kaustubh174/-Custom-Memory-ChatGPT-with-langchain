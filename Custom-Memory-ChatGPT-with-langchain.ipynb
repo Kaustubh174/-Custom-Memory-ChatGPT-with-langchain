{
 "cells": [
  {
   "cell_type": "markdown",
   "id": "11d9844f-bc62-4664-9407-461568b20b2c",
   "metadata": {},
   "source": [
    "# Custom Memory ChatGPT with langchain"
   ]
  },
  {
   "cell_type": "code",
   "execution_count": 1,
   "id": "19118c1d-e6ed-4b32-af9b-832a4df260da",
   "metadata": {},
   "outputs": [],
   "source": [
    "import os\n",
    "os.environ['OPENAI_API_KEY'] = 'your api key'  #paste your api"
   ]
  },
  {
   "cell_type": "code",
   "execution_count": 2,
   "id": "ae4deb45-8f11-4d8d-a0cc-f8e571f6f683",
   "metadata": {},
   "outputs": [],
   "source": [
    "#importing libraries \n",
    "from langchain_openai import ChatOpenAI\n",
    "from langchain.schema import SystemMessage\n",
    "from langchain.chains import LLMChain\n",
    "from langchain.prompts import ChatPromptTemplate, HumanMessagePromptTemplate, MessagesPlaceholder\n",
    "# memory library in langchain\n",
    "from langchain.memory import ConversationBufferMemory"
   ]
  },
  {
   "cell_type": "code",
   "execution_count": 3,
   "id": "b7c08fe8-7a9e-4a7e-854c-57368817eee1",
   "metadata": {},
   "outputs": [
    {
     "name": "stderr",
     "output_type": "stream",
     "text": [
      "C:\\Users\\Kaustubh\\AppData\\Local\\Programs\\Python\\Python311\\Lib\\site-packages\\langchain_core\\_api\\deprecation.py:139: LangChainDeprecationWarning: The class `LLMChain` was deprecated in LangChain 0.1.17 and will be removed in 1.0. Use RunnableSequence, e.g., `prompt | llm` instead.\n",
      "  warn_deprecated(\n"
     ]
    },
    {
     "name": "stdin",
     "output_type": "stream",
     "text": [
      "Your prompt:  the mass of the earth is...\n"
     ]
    },
    {
     "name": "stdout",
     "output_type": "stream",
     "text": [
      "The mass of the Earth is approximately 5.97 x 10^24 kilograms.\n",
      "--------------------------------------------------\n"
     ]
    },
    {
     "name": "stdin",
     "output_type": "stream",
     "text": [
      "Your prompt:  what is its diameter?\n"
     ]
    },
    {
     "name": "stdout",
     "output_type": "stream",
     "text": [
      "The diameter of the Earth is about 12,742 kilometers.\n",
      "--------------------------------------------------\n"
     ]
    },
    {
     "name": "stdin",
     "output_type": "stream",
     "text": [
      "Your prompt:  shape of it?\n"
     ]
    },
    {
     "name": "stdout",
     "output_type": "stream",
     "text": [
      "The Earth is approximately an oblate spheroid, which means it is mostly spherical but slightly flattened at the poles and bulging at the equator due to its rotation.\n",
      "--------------------------------------------------\n"
     ]
    },
    {
     "name": "stdin",
     "output_type": "stream",
     "text": [
      "Your prompt:  nearest planet?\n"
     ]
    },
    {
     "name": "stdout",
     "output_type": "stream",
     "text": [
      "The nearest planet to Earth is Venus.\n",
      "--------------------------------------------------\n"
     ]
    },
    {
     "name": "stdin",
     "output_type": "stream",
     "text": [
      "Your prompt:  distance?\n"
     ]
    },
    {
     "name": "stdout",
     "output_type": "stream",
     "text": [
      "The average distance between Earth and Venus is about 41 million kilometers.\n",
      "--------------------------------------------------\n"
     ]
    },
    {
     "name": "stdin",
     "output_type": "stream",
     "text": [
      "Your prompt:  what questions did I ask?\n"
     ]
    },
    {
     "name": "stdout",
     "output_type": "stream",
     "text": [
      "You asked about the mass, diameter, shape, and distance to the nearest planet from Earth.\n",
      "--------------------------------------------------\n"
     ]
    },
    {
     "name": "stdin",
     "output_type": "stream",
     "text": [
      "Your prompt:  exit\n"
     ]
    },
    {
     "name": "stdout",
     "output_type": "stream",
     "text": [
      "GoodBye!\n"
     ]
    }
   ],
   "source": [
    "llm = ChatOpenAI()\n",
    "\n",
    "#memory object\n",
    "memory = ConversationBufferMemory(\n",
    "    memory_key= 'chat_history',\n",
    "    return_messages=True\n",
    ") \n",
    "\n",
    "prompt = ChatPromptTemplate(\n",
    "    input_variables='content',\n",
    "    messages=[\n",
    "        SystemMessage(content='You are a chatbot having conversation with a human'),\n",
    "        MessagesPlaceholder(variable_name='chat_history'),    #where the memory will be stored\n",
    "        HumanMessagePromptTemplate.from_template('{content}')\n",
    "    ]\n",
    ")\n",
    "\n",
    "chain = LLMChain(\n",
    "    llm = llm,\n",
    "    prompt = prompt,\n",
    "    memory = memory,\n",
    "    verbose = False\n",
    ")\n",
    "\n",
    "while True:\n",
    "    content = input('Your prompt: ')\n",
    "    if content in ['exit','quite','bye']:\n",
    "        print('GoodBye!')\n",
    "        break\n",
    "    response = chain.invoke({'content':content})\n",
    "    print(response['text'])\n",
    "    print('-'*50)"
   ]
  },
  {
   "cell_type": "code",
   "execution_count": null,
   "id": "c7c6e419-1767-4a3b-af06-5e64dff65a9b",
   "metadata": {},
   "outputs": [],
   "source": []
  }
 ],
 "metadata": {
  "kernelspec": {
   "display_name": "Python 3 (ipykernel)",
   "language": "python",
   "name": "python3"
  },
  "language_info": {
   "codemirror_mode": {
    "name": "ipython",
    "version": 3
   },
   "file_extension": ".py",
   "mimetype": "text/x-python",
   "name": "python",
   "nbconvert_exporter": "python",
   "pygments_lexer": "ipython3",
   "version": "3.11.4"
  }
 },
 "nbformat": 4,
 "nbformat_minor": 5
}
